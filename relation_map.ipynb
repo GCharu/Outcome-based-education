{
 "cells": [
  {
   "cell_type": "code",
   "execution_count": 1,
   "metadata": {},
   "outputs": [],
   "source": [
    "import pandas as pd\n",
    "import numpy as np\n",
    "\n",
    "import nltk \n",
    "from nltk.corpus import wordnet as wn\n",
    "\n",
    "from nltk.tokenize import word_tokenize, sent_tokenize\n",
    "from nltk.corpus import stopwords\n",
    "from nltk.stem import PorterStemmer, WordNetLemmatizer\n",
    "from sklearn.feature_extraction.text import CountVectorizer, TfidfVectorizer\n",
    "\n",
    "from nltk.corpus import wordnet_ic"
   ]
  },
  {
   "cell_type": "code",
   "execution_count": 2,
   "metadata": {},
   "outputs": [
    {
     "data": {
      "text/plain": [
       "(12, 1)"
      ]
     },
     "execution_count": 2,
     "metadata": {},
     "output_type": "execute_result"
    }
   ],
   "source": [
    "pos_df = pd.read_csv('#pos.csv',header=None)\n",
    "pos_df.columns=['POs']\n",
    "pos_df.shape"
   ]
  },
  {
   "cell_type": "code",
   "execution_count": 3,
   "metadata": {},
   "outputs": [
    {
     "data": {
      "text/html": [
       "<div>\n",
       "<style scoped>\n",
       "    .dataframe tbody tr th:only-of-type {\n",
       "        vertical-align: middle;\n",
       "    }\n",
       "\n",
       "    .dataframe tbody tr th {\n",
       "        vertical-align: top;\n",
       "    }\n",
       "\n",
       "    .dataframe thead th {\n",
       "        text-align: right;\n",
       "    }\n",
       "</style>\n",
       "<table border=\"1\" class=\"dataframe\">\n",
       "  <thead>\n",
       "    <tr style=\"text-align: right;\">\n",
       "      <th></th>\n",
       "      <th>POs</th>\n",
       "    </tr>\n",
       "  </thead>\n",
       "  <tbody>\n",
       "    <tr>\n",
       "      <th>0</th>\n",
       "      <td>Engineering knowledge: Apply the knowledge of ...</td>\n",
       "    </tr>\n",
       "    <tr>\n",
       "      <th>1</th>\n",
       "      <td>Problem analysis: Identify, formulate, review ...</td>\n",
       "    </tr>\n",
       "    <tr>\n",
       "      <th>2</th>\n",
       "      <td>Design/development of solutions: Design soluti...</td>\n",
       "    </tr>\n",
       "    <tr>\n",
       "      <th>3</th>\n",
       "      <td>Conduct investigations of complex problems: Us...</td>\n",
       "    </tr>\n",
       "    <tr>\n",
       "      <th>4</th>\n",
       "      <td>Modern tool usage: Create, select, and apply a...</td>\n",
       "    </tr>\n",
       "  </tbody>\n",
       "</table>\n",
       "</div>"
      ],
      "text/plain": [
       "                                                 POs\n",
       "0  Engineering knowledge: Apply the knowledge of ...\n",
       "1  Problem analysis: Identify, formulate, review ...\n",
       "2  Design/development of solutions: Design soluti...\n",
       "3  Conduct investigations of complex problems: Us...\n",
       "4  Modern tool usage: Create, select, and apply a..."
      ]
     },
     "execution_count": 3,
     "metadata": {},
     "output_type": "execute_result"
    }
   ],
   "source": [
    "pos_df.head()"
   ]
  },
  {
   "cell_type": "code",
   "execution_count": 4,
   "metadata": {},
   "outputs": [],
   "source": [
    "po_tokens=[]\n",
    "for po in pos_df['POs']:\n",
    "    po_tokens.append(word_tokenize(po.lower()))"
   ]
  },
  {
   "cell_type": "code",
   "execution_count": 5,
   "metadata": {},
   "outputs": [
    {
     "name": "stdout",
     "output_type": "stream",
     "text": [
      "Engineering knowledge: Apply the knowledge of mathematics, science, engineering fundamentals, and an engineering specialization to the solution of complex engineering problems.\n"
     ]
    }
   ],
   "source": [
    "print(pos_df['POs'][0])"
   ]
  },
  {
   "cell_type": "code",
   "execution_count": 6,
   "metadata": {},
   "outputs": [
    {
     "name": "stdout",
     "output_type": "stream",
     "text": [
      "['engineering', 'knowledge', ':', 'apply', 'the', 'knowledge', 'of', 'mathematics', ',', 'science', ',', 'engineering', 'fundamentals', ',', 'and', 'an', 'engineering', 'specialization', 'to', 'the', 'solution', 'of', 'complex', 'engineering', 'problems', '.']\n"
     ]
    }
   ],
   "source": [
    "print(po_tokens[0])"
   ]
  },
  {
   "cell_type": "code",
   "execution_count": 7,
   "metadata": {},
   "outputs": [],
   "source": [
    "eng_stopwords = stopwords.words('english')\n",
    "eng_stopwords.extend([',','.',\"'\",\":\"])"
   ]
  },
  {
   "cell_type": "code",
   "execution_count": 8,
   "metadata": {},
   "outputs": [],
   "source": [
    "words = []\n",
    "for list_1 in po_tokens:\n",
    "    main_words = []\n",
    "    for word in list_1:\n",
    "        if word not in eng_stopwords:\n",
    "            if word not in main_words:\n",
    "                main_words.append(word)\n",
    "    words.append(main_words)"
   ]
  },
  {
   "cell_type": "code",
   "execution_count": 9,
   "metadata": {},
   "outputs": [
    {
     "name": "stdout",
     "output_type": "stream",
     "text": [
      "['engineering', 'knowledge', 'apply', 'mathematics', 'science', 'fundamentals', 'specialization', 'solution', 'complex', 'problems']\n"
     ]
    }
   ],
   "source": [
    "print(words[0])"
   ]
  },
  {
   "cell_type": "code",
   "execution_count": 10,
   "metadata": {},
   "outputs": [],
   "source": [
    "wnet = WordNetLemmatizer()"
   ]
  },
  {
   "cell_type": "code",
   "execution_count": 11,
   "metadata": {},
   "outputs": [],
   "source": [
    "for i in range(len(words)):\n",
    "    for j in range(len(words[i])):\n",
    "        lemm = wnet.lemmatize(words[i][j], pos='n')\n",
    "        words[i][j] = lemm"
   ]
  },
  {
   "cell_type": "code",
   "execution_count": 12,
   "metadata": {},
   "outputs": [
    {
     "name": "stdout",
     "output_type": "stream",
     "text": [
      "['engineering', 'knowledge', 'apply', 'mathematics', 'science', 'fundamental', 'specialization', 'solution', 'complex', 'problem']\n"
     ]
    }
   ],
   "source": [
    "print(words[0])"
   ]
  },
  {
   "cell_type": "code",
   "execution_count": 13,
   "metadata": {},
   "outputs": [],
   "source": [
    "po_synonym=[]\n",
    "for i in range(len(words)):\n",
    "    po_syn = []\n",
    "    for j in range(len(words[i])):\n",
    "        for syn in wn.synsets(words[i][j]): \n",
    "#             print(\"--WORD-- : \",words[i][j])\n",
    "            if syn not in po_syn:\n",
    "#                 print(\"syn : \",syn.name())\n",
    "                po_syn.append(syn)\n",
    "    po_synonym.append(po_syn)"
   ]
  },
  {
   "cell_type": "code",
   "execution_count": 14,
   "metadata": {},
   "outputs": [
    {
     "name": "stdout",
     "output_type": "stream",
     "text": [
      "[Synset('technology.n.01'), Synset('engineering.n.02'), Synset('engineering.n.03'), Synset('engineer.v.01'), Synset('mastermind.v.01'), Synset('cognition.n.01'), Synset('use.v.01'), Synset('apply.v.02'), Synset('apply.v.03'), Synset('put_on.v.07'), Synset('lend_oneself.v.01'), Synset('give.v.20'), Synset('practice.v.04'), Synset('enforce.v.01'), Synset('apply.v.09'), Synset('apply.v.10'), Synset('mathematics.n.01'), Synset('science.n.01'), Synset('skill.n.02'), Synset('fundamental.n.01'), Synset('fundamental.n.02'), Synset('cardinal.s.01'), Synset('fundamental.s.02'), Synset('fundamental.s.03'), Synset('specialization.n.01'), Synset('specialization.n.02'), Synset('specialization.n.03'), Synset('solution.n.01'), Synset('solution.n.02'), Synset('solution.n.03'), Synset('solution.n.04'), Synset('solution.n.05'), Synset('complex.n.01'), Synset('complex.n.02'), Synset('complex.n.03'), Synset('building_complex.n.01'), Synset('complex.a.01'), Synset('problem.n.01'), Synset('problem.n.02'), Synset('trouble.n.01')]\n"
     ]
    }
   ],
   "source": [
    "print(po_synonym[0])"
   ]
  },
  {
   "cell_type": "code",
   "execution_count": 15,
   "metadata": {},
   "outputs": [
    {
     "name": "stdout",
     "output_type": "stream",
     "text": [
      "6.0283161048744525 2.2241504712318556 7.911666509036577\n"
     ]
    }
   ],
   "source": [
    "## EXAMPLE\n",
    "dog=wn.synsets('dog', pos=wn.NOUN)[0] #get the first noun synonym of the word \"dog\"\n",
    "cat=wn.synsets('cat', pos=wn.NOUN)[0]\n",
    "rose=wn.synsets('rose', pos=wn.NOUN)[0]\n",
    "flower=wn.synsets('flower', pos=wn.NOUN)[0]\n",
    "\n",
    "brown_ic = wordnet_ic.ic('ic-brown.dat') #load the brown corpus to compute the IC\n",
    "\n",
    "print(rose.res_similarity(flower, brown_ic),rose.res_similarity(dog, brown_ic),cat.res_similarity(dog, brown_ic))"
   ]
  },
  {
   "cell_type": "code",
   "execution_count": 16,
   "metadata": {},
   "outputs": [],
   "source": [
    "cos_df = pd.read_csv('#new_cos.csv',header=None,encoding = 'unicode_escape')\n",
    "cos_df.columns=['category','sub_code','Cos']"
   ]
  },
  {
   "cell_type": "code",
   "execution_count": 17,
   "metadata": {},
   "outputs": [
    {
     "data": {
      "text/plain": [
       "(287, 3)"
      ]
     },
     "execution_count": 17,
     "metadata": {},
     "output_type": "execute_result"
    }
   ],
   "source": [
    "cos_df.shape"
   ]
  },
  {
   "cell_type": "code",
   "execution_count": 18,
   "metadata": {},
   "outputs": [
    {
     "data": {
      "text/html": [
       "<div>\n",
       "<style scoped>\n",
       "    .dataframe tbody tr th:only-of-type {\n",
       "        vertical-align: middle;\n",
       "    }\n",
       "\n",
       "    .dataframe tbody tr th {\n",
       "        vertical-align: top;\n",
       "    }\n",
       "\n",
       "    .dataframe thead th {\n",
       "        text-align: right;\n",
       "    }\n",
       "</style>\n",
       "<table border=\"1\" class=\"dataframe\">\n",
       "  <thead>\n",
       "    <tr style=\"text-align: right;\">\n",
       "      <th></th>\n",
       "      <th>category</th>\n",
       "      <th>sub_code</th>\n",
       "      <th>Cos</th>\n",
       "    </tr>\n",
       "  </thead>\n",
       "  <tbody>\n",
       "    <tr>\n",
       "      <th>0</th>\n",
       "      <td>c1</td>\n",
       "      <td>ETMA 101 CO1</td>\n",
       "      <td>Students will be able to apply the knowledge o...</td>\n",
       "    </tr>\n",
       "    <tr>\n",
       "      <th>1</th>\n",
       "      <td>c1</td>\n",
       "      <td>ETMA 101 CO2</td>\n",
       "      <td>Students will gain thorough knowledge of the a...</td>\n",
       "    </tr>\n",
       "    <tr>\n",
       "      <th>2</th>\n",
       "      <td>c1</td>\n",
       "      <td>ETMA 101 CO3</td>\n",
       "      <td>Students will learn theory of matrices, its in...</td>\n",
       "    </tr>\n",
       "    <tr>\n",
       "      <th>3</th>\n",
       "      <td>c1</td>\n",
       "      <td>ETMA 101 CO4</td>\n",
       "      <td>Students will be acquainted with first order d...</td>\n",
       "    </tr>\n",
       "    <tr>\n",
       "      <th>4</th>\n",
       "      <td>c6</td>\n",
       "      <td>ETPH 103 CO1</td>\n",
       "      <td>Will be able to understand the concepts of int...</td>\n",
       "    </tr>\n",
       "  </tbody>\n",
       "</table>\n",
       "</div>"
      ],
      "text/plain": [
       "  category      sub_code                                                Cos\n",
       "0       c1  ETMA 101 CO1  Students will be able to apply the knowledge o...\n",
       "1       c1  ETMA 101 CO2  Students will gain thorough knowledge of the a...\n",
       "2       c1  ETMA 101 CO3  Students will learn theory of matrices, its in...\n",
       "3       c1  ETMA 101 CO4  Students will be acquainted with first order d...\n",
       "4       c6  ETPH 103 CO1  Will be able to understand the concepts of int..."
      ]
     },
     "execution_count": 18,
     "metadata": {},
     "output_type": "execute_result"
    }
   ],
   "source": [
    "cos_df.head()"
   ]
  },
  {
   "cell_type": "code",
   "execution_count": 19,
   "metadata": {},
   "outputs": [
    {
     "data": {
      "text/plain": [
       "(287,)"
      ]
     },
     "execution_count": 19,
     "metadata": {},
     "output_type": "execute_result"
    }
   ],
   "source": [
    "cos = cos_df['Cos']\n",
    "cos.shape"
   ]
  },
  {
   "cell_type": "code",
   "execution_count": 20,
   "metadata": {},
   "outputs": [],
   "source": [
    "co_tokens=[]\n",
    "for co in cos_df['Cos']:\n",
    "    co_tokens.append(word_tokenize(co.lower()))"
   ]
  },
  {
   "cell_type": "code",
   "execution_count": 21,
   "metadata": {},
   "outputs": [
    {
     "name": "stdout",
     "output_type": "stream",
     "text": [
      "Students will be able to apply the knowledge of successive differentiation in various problems, different tests to find the nature of the infinite series and Taylors and Maclaurins series to find the expansion of mathematical functions.\n"
     ]
    }
   ],
   "source": [
    "print(cos_df['Cos'][0])"
   ]
  },
  {
   "cell_type": "code",
   "execution_count": 22,
   "metadata": {},
   "outputs": [
    {
     "name": "stdout",
     "output_type": "stream",
     "text": [
      "['students', 'will', 'be', 'able', 'to', 'apply', 'the', 'knowledge', 'of', 'successive', 'differentiation', 'in', 'various', 'problems', ',', 'different', 'tests', 'to', 'find', 'the', 'nature', 'of', 'the', 'infinite', 'series', 'and', 'taylor\\x92s', 'and', 'maclaurin\\x92s', 'series', 'to', 'find', 'the', 'expansion', 'of', 'mathematical', 'functions', '.']\n"
     ]
    }
   ],
   "source": [
    "print(co_tokens[0])"
   ]
  },
  {
   "cell_type": "code",
   "execution_count": 23,
   "metadata": {},
   "outputs": [],
   "source": [
    "co_words = []\n",
    "for list_1 in co_tokens:\n",
    "    co_main_words = []\n",
    "    for word in list_1:\n",
    "        if word not in eng_stopwords:\n",
    "            if word not in co_main_words:\n",
    "                co_main_words.append(word)\n",
    "    co_words.append(co_main_words)"
   ]
  },
  {
   "cell_type": "code",
   "execution_count": 24,
   "metadata": {},
   "outputs": [
    {
     "name": "stdout",
     "output_type": "stream",
     "text": [
      "['students', 'able', 'apply', 'knowledge', 'successive', 'differentiation', 'various', 'problems', 'different', 'tests', 'find', 'nature', 'infinite', 'series', 'taylor\\x92s', 'maclaurin\\x92s', 'expansion', 'mathematical', 'functions']\n"
     ]
    }
   ],
   "source": [
    "print(co_words[0])"
   ]
  },
  {
   "cell_type": "code",
   "execution_count": 25,
   "metadata": {},
   "outputs": [],
   "source": [
    "for i in range(len(co_words)):\n",
    "    for j in range(len(co_words[i])):\n",
    "        lemm = wnet.lemmatize(co_words[i][j], pos='n')\n",
    "        co_words[i][j] = lemm"
   ]
  },
  {
   "cell_type": "code",
   "execution_count": 26,
   "metadata": {},
   "outputs": [
    {
     "name": "stdout",
     "output_type": "stream",
     "text": [
      "['student', 'able', 'apply', 'knowledge', 'successive', 'differentiation', 'various', 'problem', 'different', 'test', 'find', 'nature', 'infinite', 'series', 'taylor\\x92s', 'maclaurin\\x92s', 'expansion', 'mathematical', 'function']\n"
     ]
    }
   ],
   "source": [
    "print(co_words[0])"
   ]
  },
  {
   "cell_type": "code",
   "execution_count": 27,
   "metadata": {},
   "outputs": [
    {
     "data": {
      "text/html": [
       "<div>\n",
       "<style scoped>\n",
       "    .dataframe tbody tr th:only-of-type {\n",
       "        vertical-align: middle;\n",
       "    }\n",
       "\n",
       "    .dataframe tbody tr th {\n",
       "        vertical-align: top;\n",
       "    }\n",
       "\n",
       "    .dataframe thead th {\n",
       "        text-align: right;\n",
       "    }\n",
       "</style>\n",
       "<table border=\"1\" class=\"dataframe\">\n",
       "  <thead>\n",
       "    <tr style=\"text-align: right;\">\n",
       "      <th></th>\n",
       "      <th>c1</th>\n",
       "      <th>c2</th>\n",
       "      <th>c3</th>\n",
       "      <th>c4</th>\n",
       "      <th>c5</th>\n",
       "      <th>c6</th>\n",
       "      <th>c7</th>\n",
       "      <th>c8</th>\n",
       "      <th>c9</th>\n",
       "    </tr>\n",
       "  </thead>\n",
       "  <tbody>\n",
       "    <tr>\n",
       "      <th>0</th>\n",
       "      <td>0.75</td>\n",
       "      <td>0.50</td>\n",
       "      <td>0.15</td>\n",
       "      <td>0.20</td>\n",
       "      <td>0.4</td>\n",
       "      <td>0.625</td>\n",
       "      <td>0.175</td>\n",
       "      <td>0.300</td>\n",
       "      <td>0.450000</td>\n",
       "    </tr>\n",
       "    <tr>\n",
       "      <th>1</th>\n",
       "      <td>0.75</td>\n",
       "      <td>0.50</td>\n",
       "      <td>0.15</td>\n",
       "      <td>0.20</td>\n",
       "      <td>0.4</td>\n",
       "      <td>0.625</td>\n",
       "      <td>0.175</td>\n",
       "      <td>0.300</td>\n",
       "      <td>0.450000</td>\n",
       "    </tr>\n",
       "    <tr>\n",
       "      <th>2</th>\n",
       "      <td>0.75</td>\n",
       "      <td>0.50</td>\n",
       "      <td>0.15</td>\n",
       "      <td>0.20</td>\n",
       "      <td>0.4</td>\n",
       "      <td>0.625</td>\n",
       "      <td>0.175</td>\n",
       "      <td>0.300</td>\n",
       "      <td>0.450000</td>\n",
       "    </tr>\n",
       "    <tr>\n",
       "      <th>3</th>\n",
       "      <td>0.75</td>\n",
       "      <td>0.50</td>\n",
       "      <td>0.15</td>\n",
       "      <td>0.20</td>\n",
       "      <td>0.4</td>\n",
       "      <td>0.625</td>\n",
       "      <td>0.175</td>\n",
       "      <td>0.300</td>\n",
       "      <td>0.450000</td>\n",
       "    </tr>\n",
       "    <tr>\n",
       "      <th>4</th>\n",
       "      <td>0.50</td>\n",
       "      <td>0.85</td>\n",
       "      <td>0.10</td>\n",
       "      <td>0.15</td>\n",
       "      <td>0.5</td>\n",
       "      <td>0.675</td>\n",
       "      <td>0.125</td>\n",
       "      <td>0.325</td>\n",
       "      <td>0.383333</td>\n",
       "    </tr>\n",
       "  </tbody>\n",
       "</table>\n",
       "</div>"
      ],
      "text/plain": [
       "     c1    c2    c3    c4   c5     c6     c7     c8        c9\n",
       "0  0.75  0.50  0.15  0.20  0.4  0.625  0.175  0.300  0.450000\n",
       "1  0.75  0.50  0.15  0.20  0.4  0.625  0.175  0.300  0.450000\n",
       "2  0.75  0.50  0.15  0.20  0.4  0.625  0.175  0.300  0.450000\n",
       "3  0.75  0.50  0.15  0.20  0.4  0.625  0.175  0.300  0.450000\n",
       "4  0.50  0.85  0.10  0.15  0.5  0.675  0.125  0.325  0.383333"
      ]
     },
     "execution_count": 27,
     "metadata": {},
     "output_type": "execute_result"
    }
   ],
   "source": [
    "cat=['c1','c2','c3','c4','c5','c6','c7','c8','c9']\n",
    "cat_df = pd.read_csv('#categories.csv',encoding = 'unicode_escape',dtype=np.float64)\n",
    "cat_df.head()"
   ]
  },
  {
   "cell_type": "code",
   "execution_count": 28,
   "metadata": {},
   "outputs": [
    {
     "data": {
      "text/plain": [
       "(12, 9)"
      ]
     },
     "execution_count": 28,
     "metadata": {},
     "output_type": "execute_result"
    }
   ],
   "source": [
    "cat_df.shape"
   ]
  },
  {
   "cell_type": "code",
   "execution_count": 29,
   "metadata": {},
   "outputs": [
    {
     "name": "stdout",
     "output_type": "stream",
     "text": [
      "CO: 0\n",
      "CO: 1\n",
      "CO: 2\n",
      "CO: 3\n",
      "CO: 4\n",
      "CO: 5\n",
      "CO: 6\n",
      "CO: 7\n",
      "CO: 8\n",
      "CO: 9\n",
      "CO: 10\n",
      "CO: 11\n",
      "CO: 12\n",
      "CO: 13\n",
      "CO: 14\n",
      "CO: 15\n",
      "CO: 16\n",
      "CO: 17\n",
      "CO: 18\n",
      "CO: 19\n",
      "CO: 20\n",
      "CO: 21\n",
      "CO: 22\n",
      "CO: 23\n",
      "CO: 24\n",
      "CO: 25\n",
      "CO: 26\n",
      "CO: 27\n",
      "CO: 28\n",
      "CO: 29\n",
      "CO: 30\n",
      "CO: 31\n",
      "CO: 32\n",
      "CO: 33\n",
      "CO: 34\n",
      "CO: 35\n",
      "CO: 36\n",
      "CO: 37\n",
      "CO: 38\n",
      "CO: 39\n",
      "CO: 40\n",
      "CO: 41\n",
      "CO: 42\n",
      "CO: 43\n",
      "CO: 44\n",
      "CO: 45\n",
      "CO: 46\n",
      "CO: 47\n",
      "CO: 48\n",
      "CO: 49\n",
      "CO: 50\n",
      "CO: 51\n",
      "CO: 52\n",
      "CO: 53\n",
      "CO: 54\n",
      "CO: 55\n",
      "CO: 56\n",
      "CO: 57\n",
      "CO: 58\n",
      "CO: 59\n",
      "CO: 60\n",
      "CO: 61\n",
      "CO: 62\n",
      "CO: 63\n",
      "CO: 64\n",
      "CO: 65\n",
      "CO: 66\n",
      "CO: 67\n",
      "CO: 68\n",
      "CO: 69\n",
      "CO: 70\n",
      "CO: 71\n",
      "CO: 72\n",
      "CO: 73\n",
      "CO: 74\n",
      "CO: 75\n",
      "CO: 76\n",
      "CO: 77\n",
      "CO: 78\n",
      "CO: 79\n",
      "CO: 80\n",
      "CO: 81\n",
      "CO: 82\n",
      "CO: 83\n",
      "CO: 84\n",
      "CO: 85\n",
      "CO: 86\n",
      "CO: 87\n",
      "CO: 88\n",
      "CO: 89\n",
      "CO: 90\n",
      "CO: 91\n",
      "CO: 92\n",
      "CO: 93\n",
      "CO: 94\n",
      "CO: 95\n",
      "CO: 96\n",
      "CO: 97\n",
      "CO: 98\n",
      "CO: 99\n",
      "CO: 100\n",
      "CO: 101\n",
      "CO: 102\n",
      "CO: 103\n",
      "CO: 104\n",
      "CO: 105\n",
      "CO: 106\n",
      "CO: 107\n",
      "CO: 108\n",
      "CO: 109\n",
      "CO: 110\n",
      "CO: 111\n",
      "CO: 112\n",
      "CO: 113\n",
      "CO: 114\n",
      "CO: 115\n",
      "CO: 116\n",
      "CO: 117\n",
      "CO: 118\n",
      "CO: 119\n",
      "CO: 120\n",
      "CO: 121\n",
      "CO: 122\n",
      "CO: 123\n",
      "CO: 124\n",
      "CO: 125\n",
      "CO: 126\n",
      "CO: 127\n",
      "CO: 128\n",
      "CO: 129\n",
      "CO: 130\n",
      "CO: 131\n",
      "CO: 132\n",
      "CO: 133\n",
      "CO: 134\n",
      "CO: 135\n",
      "CO: 136\n",
      "CO: 137\n",
      "CO: 138\n",
      "CO: 139\n",
      "CO: 140\n",
      "CO: 141\n",
      "CO: 142\n",
      "CO: 143\n",
      "CO: 144\n",
      "CO: 145\n",
      "CO: 146\n",
      "CO: 147\n",
      "CO: 148\n",
      "CO: 149\n",
      "CO: 150\n",
      "CO: 151\n",
      "CO: 152\n",
      "CO: 153\n",
      "CO: 154\n",
      "CO: 155\n",
      "CO: 156\n",
      "CO: 157\n",
      "CO: 158\n",
      "CO: 159\n",
      "CO: 160\n",
      "CO: 161\n",
      "CO: 162\n",
      "CO: 163\n",
      "CO: 164\n",
      "CO: 165\n",
      "CO: 166\n",
      "CO: 167\n",
      "CO: 168\n",
      "CO: 169\n",
      "CO: 170\n",
      "CO: 171\n",
      "CO: 172\n",
      "CO: 173\n",
      "CO: 174\n",
      "CO: 175\n",
      "CO: 176\n",
      "CO: 177\n",
      "CO: 178\n",
      "CO: 179\n",
      "CO: 180\n",
      "CO: 181\n",
      "CO: 182\n",
      "CO: 183\n",
      "CO: 184\n",
      "CO: 185\n",
      "CO: 186\n",
      "CO: 187\n",
      "CO: 188\n",
      "CO: 189\n",
      "CO: 190\n",
      "CO: 191\n",
      "CO: 192\n",
      "CO: 193\n",
      "CO: 194\n",
      "CO: 195\n",
      "CO: 196\n",
      "CO: 197\n",
      "CO: 198\n",
      "CO: 199\n",
      "CO: 200\n",
      "CO: 201\n",
      "CO: 202\n",
      "CO: 203\n",
      "CO: 204\n",
      "CO: 205\n",
      "CO: 206\n",
      "CO: 207\n",
      "CO: 208\n",
      "CO: 209\n",
      "CO: 210\n",
      "CO: 211\n",
      "CO: 212\n",
      "CO: 213\n",
      "CO: 214\n",
      "CO: 215\n",
      "CO: 216\n",
      "CO: 217\n",
      "CO: 218\n",
      "CO: 219\n",
      "CO: 220\n",
      "CO: 221\n",
      "CO: 222\n",
      "CO: 223\n",
      "CO: 224\n",
      "CO: 225\n",
      "CO: 226\n",
      "CO: 227\n",
      "CO: 228\n",
      "CO: 229\n",
      "CO: 230\n",
      "CO: 231\n",
      "CO: 232\n",
      "CO: 233\n",
      "CO: 234\n",
      "CO: 235\n",
      "CO: 236\n",
      "CO: 237\n",
      "CO: 238\n",
      "CO: 239\n",
      "CO: 240\n",
      "CO: 241\n",
      "CO: 242\n",
      "CO: 243\n",
      "CO: 244\n",
      "CO: 245\n",
      "CO: 246\n",
      "CO: 247\n",
      "CO: 248\n",
      "CO: 249\n",
      "CO: 250\n",
      "CO: 251\n",
      "CO: 252\n",
      "CO: 253\n",
      "CO: 254\n",
      "CO: 255\n",
      "CO: 256\n",
      "CO: 257\n",
      "CO: 258\n",
      "CO: 259\n",
      "CO: 260\n",
      "CO: 261\n",
      "CO: 262\n",
      "CO: 263\n",
      "CO: 264\n",
      "CO: 265\n",
      "CO: 266\n",
      "CO: 267\n",
      "CO: 268\n",
      "CO: 269\n",
      "CO: 270\n",
      "CO: 271\n",
      "CO: 272\n",
      "CO: 273\n",
      "CO: 274\n",
      "CO: 275\n",
      "CO: 276\n",
      "CO: 277\n",
      "CO: 278\n",
      "CO: 279\n",
      "CO: 280\n",
      "CO: 281\n",
      "CO: 282\n",
      "CO: 283\n",
      "CO: 284\n",
      "CO: 285\n",
      "CO: 286\n"
     ]
    }
   ],
   "source": [
    "similarity = np.zeros([cos_df.shape[0],pos_df.shape[0]])\n",
    "for x in range(len(co_words)):\n",
    "    print(\"CO:\",x)\n",
    "    for y in range(len(co_words[x])):\n",
    "        if len(wn.synsets(co_words[x][y])) != 0 :\n",
    "            for i in range(len(po_synonym)):\n",
    "                for j in range(len(po_synonym[i])):\n",
    "                    if (wn.synsets(co_words[x][y])[0]).wup_similarity(po_synonym[i][j],brown_ic) != None:\n",
    "                        similarity[x][i] = similarity[x][i]+((wn.synsets(co_words[x][y])[0]).wup_similarity(po_synonym[i][j],brown_ic))"
   ]
  },
  {
   "cell_type": "code",
   "execution_count": 30,
   "metadata": {},
   "outputs": [],
   "source": [
    "category = list(cos_df['category'])\n",
    "sim = np.zeros([cos_df.shape[0],pos_df.shape[0]])\n",
    "for i in range(similarity.shape[0]):\n",
    "    for j in range(similarity.shape[1]):\n",
    "        for k in range(len(cat)):\n",
    "            if category[i]==cat[k]:\n",
    "                c=list(cat_df[cat[k]])\n",
    "                sim[i][j] = (similarity[i][j]*c[j])/(len(co_words[i])*len(po_synonym[j]))\n",
    "                sim[i][j] = (sim[i][j]*100/4.85)\n",
    "                sim[i][j] = round(sim[i][j],ndigits=1)"
   ]
  },
  {
   "cell_type": "code",
   "execution_count": 31,
   "metadata": {},
   "outputs": [],
   "source": [
    "map_df = pd.DataFrame(sim, columns = ['PO1', 'PO2', 'PO3', 'PO4', 'PO5', 'PO6', 'PO7', 'PO8', 'PO9', 'PO10', 'PO11', 'PO12'])\n",
    "map_df.insert(0,\"Subject code\",cos_df['sub_code'])\n",
    "map_df.insert(1,\"Category\",cos_df['category'])"
   ]
  },
  {
   "cell_type": "code",
   "execution_count": 32,
   "metadata": {},
   "outputs": [
    {
     "data": {
      "text/html": [
       "<div>\n",
       "<style scoped>\n",
       "    .dataframe tbody tr th:only-of-type {\n",
       "        vertical-align: middle;\n",
       "    }\n",
       "\n",
       "    .dataframe tbody tr th {\n",
       "        vertical-align: top;\n",
       "    }\n",
       "\n",
       "    .dataframe thead th {\n",
       "        text-align: right;\n",
       "    }\n",
       "</style>\n",
       "<table border=\"1\" class=\"dataframe\">\n",
       "  <thead>\n",
       "    <tr style=\"text-align: right;\">\n",
       "      <th></th>\n",
       "      <th>Subject code</th>\n",
       "      <th>Category</th>\n",
       "      <th>PO1</th>\n",
       "      <th>PO2</th>\n",
       "      <th>PO3</th>\n",
       "      <th>PO4</th>\n",
       "      <th>PO5</th>\n",
       "      <th>PO6</th>\n",
       "      <th>PO7</th>\n",
       "      <th>PO8</th>\n",
       "      <th>PO9</th>\n",
       "      <th>PO10</th>\n",
       "      <th>PO11</th>\n",
       "      <th>PO12</th>\n",
       "    </tr>\n",
       "  </thead>\n",
       "  <tbody>\n",
       "    <tr>\n",
       "      <th>0</th>\n",
       "      <td>ETMA 101 CO1</td>\n",
       "      <td>c1</td>\n",
       "      <td>2.0</td>\n",
       "      <td>1.6</td>\n",
       "      <td>1.7</td>\n",
       "      <td>2.1</td>\n",
       "      <td>1.0</td>\n",
       "      <td>0.3</td>\n",
       "      <td>0.4</td>\n",
       "      <td>0.3</td>\n",
       "      <td>0.3</td>\n",
       "      <td>0.3</td>\n",
       "      <td>0.6</td>\n",
       "      <td>0.6</td>\n",
       "    </tr>\n",
       "    <tr>\n",
       "      <th>1</th>\n",
       "      <td>ETMA 101 CO2</td>\n",
       "      <td>c1</td>\n",
       "      <td>2.5</td>\n",
       "      <td>2.1</td>\n",
       "      <td>2.1</td>\n",
       "      <td>2.6</td>\n",
       "      <td>1.3</td>\n",
       "      <td>0.4</td>\n",
       "      <td>0.5</td>\n",
       "      <td>0.4</td>\n",
       "      <td>0.4</td>\n",
       "      <td>0.4</td>\n",
       "      <td>0.7</td>\n",
       "      <td>0.8</td>\n",
       "    </tr>\n",
       "    <tr>\n",
       "      <th>2</th>\n",
       "      <td>ETMA 101 CO3</td>\n",
       "      <td>c1</td>\n",
       "      <td>2.4</td>\n",
       "      <td>2.0</td>\n",
       "      <td>2.1</td>\n",
       "      <td>2.5</td>\n",
       "      <td>1.3</td>\n",
       "      <td>0.4</td>\n",
       "      <td>0.4</td>\n",
       "      <td>0.4</td>\n",
       "      <td>0.5</td>\n",
       "      <td>0.4</td>\n",
       "      <td>0.7</td>\n",
       "      <td>0.8</td>\n",
       "    </tr>\n",
       "    <tr>\n",
       "      <th>3</th>\n",
       "      <td>ETMA 101 CO4</td>\n",
       "      <td>c1</td>\n",
       "      <td>1.8</td>\n",
       "      <td>1.5</td>\n",
       "      <td>1.5</td>\n",
       "      <td>1.8</td>\n",
       "      <td>0.9</td>\n",
       "      <td>0.3</td>\n",
       "      <td>0.3</td>\n",
       "      <td>0.3</td>\n",
       "      <td>0.3</td>\n",
       "      <td>0.3</td>\n",
       "      <td>0.5</td>\n",
       "      <td>0.6</td>\n",
       "    </tr>\n",
       "    <tr>\n",
       "      <th>4</th>\n",
       "      <td>ETPH 103 CO1</td>\n",
       "      <td>c6</td>\n",
       "      <td>1.9</td>\n",
       "      <td>1.7</td>\n",
       "      <td>1.7</td>\n",
       "      <td>1.9</td>\n",
       "      <td>1.8</td>\n",
       "      <td>0.4</td>\n",
       "      <td>0.4</td>\n",
       "      <td>0.4</td>\n",
       "      <td>0.9</td>\n",
       "      <td>0.8</td>\n",
       "      <td>1.2</td>\n",
       "      <td>1.3</td>\n",
       "    </tr>\n",
       "    <tr>\n",
       "      <th>5</th>\n",
       "      <td>ETPH 103 CO2</td>\n",
       "      <td>c6</td>\n",
       "      <td>1.8</td>\n",
       "      <td>1.4</td>\n",
       "      <td>1.5</td>\n",
       "      <td>1.9</td>\n",
       "      <td>1.4</td>\n",
       "      <td>0.3</td>\n",
       "      <td>0.4</td>\n",
       "      <td>0.3</td>\n",
       "      <td>0.6</td>\n",
       "      <td>0.4</td>\n",
       "      <td>0.9</td>\n",
       "      <td>0.9</td>\n",
       "    </tr>\n",
       "    <tr>\n",
       "      <th>6</th>\n",
       "      <td>ETPH 103 CO3</td>\n",
       "      <td>c6</td>\n",
       "      <td>2.5</td>\n",
       "      <td>2.3</td>\n",
       "      <td>2.3</td>\n",
       "      <td>2.6</td>\n",
       "      <td>2.3</td>\n",
       "      <td>0.5</td>\n",
       "      <td>0.6</td>\n",
       "      <td>0.5</td>\n",
       "      <td>1.1</td>\n",
       "      <td>1.1</td>\n",
       "      <td>1.7</td>\n",
       "      <td>1.8</td>\n",
       "    </tr>\n",
       "    <tr>\n",
       "      <th>7</th>\n",
       "      <td>ETPH 103 CO4</td>\n",
       "      <td>c6</td>\n",
       "      <td>2.0</td>\n",
       "      <td>1.9</td>\n",
       "      <td>1.9</td>\n",
       "      <td>2.0</td>\n",
       "      <td>2.0</td>\n",
       "      <td>0.5</td>\n",
       "      <td>0.5</td>\n",
       "      <td>0.4</td>\n",
       "      <td>1.1</td>\n",
       "      <td>1.0</td>\n",
       "      <td>1.4</td>\n",
       "      <td>1.6</td>\n",
       "    </tr>\n",
       "    <tr>\n",
       "      <th>8</th>\n",
       "      <td>ETME 105 CO1</td>\n",
       "      <td>c6</td>\n",
       "      <td>2.5</td>\n",
       "      <td>2.2</td>\n",
       "      <td>2.2</td>\n",
       "      <td>2.5</td>\n",
       "      <td>2.2</td>\n",
       "      <td>0.5</td>\n",
       "      <td>0.6</td>\n",
       "      <td>0.5</td>\n",
       "      <td>1.2</td>\n",
       "      <td>1.1</td>\n",
       "      <td>1.6</td>\n",
       "      <td>1.7</td>\n",
       "    </tr>\n",
       "    <tr>\n",
       "      <th>9</th>\n",
       "      <td>ETME 105 CO2</td>\n",
       "      <td>c6</td>\n",
       "      <td>1.9</td>\n",
       "      <td>1.7</td>\n",
       "      <td>1.8</td>\n",
       "      <td>2.0</td>\n",
       "      <td>1.8</td>\n",
       "      <td>0.4</td>\n",
       "      <td>0.5</td>\n",
       "      <td>0.4</td>\n",
       "      <td>0.9</td>\n",
       "      <td>0.7</td>\n",
       "      <td>1.2</td>\n",
       "      <td>1.3</td>\n",
       "    </tr>\n",
       "  </tbody>\n",
       "</table>\n",
       "</div>"
      ],
      "text/plain": [
       "   Subject code Category  PO1  PO2  PO3  PO4  PO5  PO6  PO7  PO8  PO9  PO10  \\\n",
       "0  ETMA 101 CO1       c1  2.0  1.6  1.7  2.1  1.0  0.3  0.4  0.3  0.3   0.3   \n",
       "1  ETMA 101 CO2       c1  2.5  2.1  2.1  2.6  1.3  0.4  0.5  0.4  0.4   0.4   \n",
       "2  ETMA 101 CO3       c1  2.4  2.0  2.1  2.5  1.3  0.4  0.4  0.4  0.5   0.4   \n",
       "3  ETMA 101 CO4       c1  1.8  1.5  1.5  1.8  0.9  0.3  0.3  0.3  0.3   0.3   \n",
       "4  ETPH 103 CO1       c6  1.9  1.7  1.7  1.9  1.8  0.4  0.4  0.4  0.9   0.8   \n",
       "5  ETPH 103 CO2       c6  1.8  1.4  1.5  1.9  1.4  0.3  0.4  0.3  0.6   0.4   \n",
       "6  ETPH 103 CO3       c6  2.5  2.3  2.3  2.6  2.3  0.5  0.6  0.5  1.1   1.1   \n",
       "7  ETPH 103 CO4       c6  2.0  1.9  1.9  2.0  2.0  0.5  0.5  0.4  1.1   1.0   \n",
       "8  ETME 105 CO1       c6  2.5  2.2  2.2  2.5  2.2  0.5  0.6  0.5  1.2   1.1   \n",
       "9  ETME 105 CO2       c6  1.9  1.7  1.8  2.0  1.8  0.4  0.5  0.4  0.9   0.7   \n",
       "\n",
       "   PO11  PO12  \n",
       "0   0.6   0.6  \n",
       "1   0.7   0.8  \n",
       "2   0.7   0.8  \n",
       "3   0.5   0.6  \n",
       "4   1.2   1.3  \n",
       "5   0.9   0.9  \n",
       "6   1.7   1.8  \n",
       "7   1.4   1.6  \n",
       "8   1.6   1.7  \n",
       "9   1.2   1.3  "
      ]
     },
     "execution_count": 32,
     "metadata": {},
     "output_type": "execute_result"
    }
   ],
   "source": [
    "map_df.head(10)"
   ]
  },
  {
   "cell_type": "code",
   "execution_count": 33,
   "metadata": {},
   "outputs": [
    {
     "name": "stdout",
     "output_type": "stream",
     "text": [
      "1 3.0 0.3\n",
      "2 3.0 0.3\n",
      "3 3.0 0.3\n",
      "4 3.0 0.3\n",
      "5 3.0 0.3\n",
      "6 3.0 0.3\n",
      "7 3.0 0.3\n",
      "8 3.0 0.3\n",
      "9 3.0 0.3\n",
      "10 3.0 0.3\n",
      "11 3.0 0.3\n",
      "12 3.0 0.3\n"
     ]
    }
   ],
   "source": [
    "for i in range(sim.shape[1]):\n",
    "    a = i+1\n",
    "    b = max(s[1] for s in sim)\n",
    "    c = min(r[1] for r in sim)\n",
    "    print(a,b,c)"
   ]
  },
  {
   "cell_type": "code",
   "execution_count": 34,
   "metadata": {},
   "outputs": [],
   "source": [
    "map_df.to_csv('map.csv',index=False)"
   ]
  },
  {
   "cell_type": "code",
   "execution_count": null,
   "metadata": {},
   "outputs": [],
   "source": []
  }
 ],
 "metadata": {
  "kernelspec": {
   "display_name": "Python 3",
   "language": "python",
   "name": "python3"
  },
  "language_info": {
   "codemirror_mode": {
    "name": "ipython",
    "version": 3
   },
   "file_extension": ".py",
   "mimetype": "text/x-python",
   "name": "python",
   "nbconvert_exporter": "python",
   "pygments_lexer": "ipython3",
   "version": "3.7.6"
  }
 },
 "nbformat": 4,
 "nbformat_minor": 2
}
